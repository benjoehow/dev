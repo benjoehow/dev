{
 "cells": [
  {
   "cell_type": "code",
   "execution_count": 2,
   "id": "59ecacb2-5b9e-4700-8dfd-515598bfd94c",
   "metadata": {},
   "outputs": [],
   "source": [
    "import requests\n",
    "import markettime as mt\n",
    "from datetime import datetime\n",
    "import pandas as pd"
   ]
  },
  {
   "cell_type": "code",
   "execution_count": 3,
   "id": "be852982-56f6-4cec-a3f4-0735e09e2191",
   "metadata": {},
   "outputs": [],
   "source": [
    "import matplotlib.pyplot as plt\n",
    "import numpy as np"
   ]
  },
  {
   "cell_type": "code",
   "execution_count": 4,
   "id": "d79c36d7-f8bc-439f-a696-2be6b55e8eb8",
   "metadata": {},
   "outputs": [],
   "source": [
    "r = requests.get('https://api.cryptowat.ch/markets/kraken/btceur/ohlc', \n",
    "                 params = {'after': mt.get_nyse_open_timestamp(date = datetime(2021,12,7))})"
   ]
  },
  {
   "cell_type": "code",
   "execution_count": 5,
   "id": "cc2ccfd3-0356-4b5f-8662-8cac396cc51a",
   "metadata": {},
   "outputs": [],
   "source": [
    "header = [\"CloseTime\", \"OpenPrice\", \"HighPrice\", \"LowPrice\", \"ClosePrice\", \"Volume\", \"QuoteVolume\"]"
   ]
  },
  {
   "cell_type": "code",
   "execution_count": 6,
   "id": "cc59992c-a266-48e8-a002-2d41573503d6",
   "metadata": {},
   "outputs": [],
   "source": [
    "t = pd.DataFrame(r.json()['result']['60'], columns = header)"
   ]
  },
  {
   "cell_type": "code",
   "execution_count": 11,
   "id": "d454a04a-860a-4d64-a4e5-237df4716ff8",
   "metadata": {},
   "outputs": [],
   "source": [
    "d = t.set_index(\"CloseTime\").diff().dropna()"
   ]
  },
  {
   "cell_type": "code",
   "execution_count": 13,
   "id": "a8520578-f479-4cc0-a3ee-1da71a0571a2",
   "metadata": {},
   "outputs": [
    {
     "data": {
      "image/png": "[encoded data removed]",
      "text/plain": [
       "<Figure size 432x288 with 1 Axes>"
      ]
     },
     "metadata": {
      "needs_background": "light"
     },
     "output_type": "display_data"
    }
   ],
   "source": [
    "fig, ax = plt.subplots()\n",
    "\n",
    "ax.plot(d.index, d.ClosePrice, linewidth=2.0)\n",
    "\n",
    "plt.show()"
   ]
  },
  {
   "cell_type": "code",
   "execution_count": 14,
   "id": "193dfc36-351e-4a9d-91bf-dada508d32a7",
   "metadata": {},
   "outputs": [
    {
     "data": {
      "image/png": "[encoded data removed]",
      "text/plain": [
       "<Figure size 432x288 with 1 Axes>"
      ]
     },
     "metadata": {
      "needs_background": "light"
     },
     "output_type": "display_data"
    }
   ],
   "source": [
    "# make data\n",
    "# plot:\n",
    "fig, ax = plt.subplots()\n",
    "\n",
    "ax.hist(d.ClosePrice, bins=100, linewidth=0.5, edgecolor=\"white\")\n",
    "\n",
    "plt.show()"
   ]
  },
  {
   "cell_type": "code",
   "execution_count": 19,
   "id": "9d69e401-a2e9-42f2-8ea4-0e8b16e52cda",
   "metadata": {},
   "outputs": [
    {
     "data": {
      "text/plain": [
       "39141.8"
      ]
     },
     "execution_count": 19,
     "metadata": {},
     "output_type": "execute_result"
    }
   ],
   "source": [
    "t.ClosePrice.median()"
   ]
  },
  {
   "cell_type": "code",
   "execution_count": 26,
   "id": "4b322be1-201e-42de-9f62-ffed74aaaa26",
   "metadata": {},
   "outputs": [],
   "source": [
    "import random"
   ]
  },
  {
   "cell_type": "code",
   "execution_count": 27,
   "id": "fd43b62a-6fe0-4bbf-8cea-14cf6927fb5d",
   "metadata": {},
   "outputs": [
    {
     "data": {
      "text/plain": [
       "[4165, 9398, 9373, 8938, 2872, 7014, 984, 5411, 5022, 4050]"
      ]
     },
     "execution_count": 27,
     "metadata": {},
     "output_type": "execute_result"
    }
   ],
   "source": []
  },
  {
   "cell_type": "code",
   "execution_count": 24,
   "id": "26ae4ca3-bbe1-4b82-ae3e-6d894122278f",
   "metadata": {},
   "outputs": [],
   "source": [
    "import functools"
   ]
  },
  {
   "cell_type": "code",
   "execution_count": 46,
   "id": "d4dc6a54-0ec8-4946-aff6-df18c268a92f",
   "metadata": {},
   "outputs": [],
   "source": [
    "_default_sampler = functools.partial(pd.Series.sample,\n",
    "                                     n = 100,\n",
    "                                     replace = True)\n",
    "\n",
    "def bootstrap_estimate(x,\n",
    "                       random_state = 350,\n",
    "                       estimator = pd.Series.median,\n",
    "                       sampler = _default_sampler):\n",
    "    sample = sampler(x, random_state = random_state)\n",
    "    estimate = estimator(sample)\n",
    "    return estimate\n",
    "\n",
    "def bootstrap_replicates_serial(x,\n",
    "                                R = 100,\n",
    "                                random_states = None,\n",
    "                                estimator = pd.Series.median,\n",
    "                                sampler = _default_sampler):\n",
    "    if random_states is None:\n",
    "        random_states = random.sample(range(1,R*10), R)\n",
    "        \n",
    "    replicates = []\n",
    "    for random_state in random_states:\n",
    "        estimate = bootstrap_estimate(x = x,\n",
    "                                      random_state = random_state,\n",
    "                                      estimator = estimator,\n",
    "                                      sampler = sampler)\n",
    "                                     \n",
    "        replicates.append(estimate)\n",
    "    return replicates\n",
    "\n",
    "def bootstrap_replicates_parallel(x,\n",
    "                                  R = 100,\n",
    "                                  estimator = pd.Series.median,\n",
    "                                  sampler = _default_sampler):\n",
    "    replicates = []\n",
    "    random_states = random.sample(range(1,R*10), R)\n",
    "    for random_state in random_states:\n",
    "        estimate = bootstrap_estimate(x = x,\n",
    "                                      random_state = random_state,\n",
    "                                      estimator = estimator,\n",
    "                                      sampler = sampler)\n",
    "                                     \n",
    "        replicates.append(estimate)\n",
    "    return replicates\n",
    "    \n",
    "def bootstrap_replicates(x, R = 100, estimator = pd.Series.median, sampler = _default_sampler,\n",
    "                         parallel = False, workers = 10):\n",
    "    with concurrent.futures.ProcessPoolExecutor(max_workers = workers) as executor:\n",
    "        \n",
    "    \n",
    "\n",
    "    "
   ]
  },
  {
   "cell_type": "code",
   "execution_count": 47,
   "id": "9fd10b48-7df1-42c5-8f2b-c711d2e50b60",
   "metadata": {},
   "outputs": [],
   "source": [
    "r = bootstrap_replicates_serial(x = d.ClosePrice)"
   ]
  },
  {
   "cell_type": "code",
   "execution_count": 50,
   "id": "41b66f8c-acc1-4a4d-af7a-bed08439a3e1",
   "metadata": {},
   "outputs": [],
   "source": [
    "import concurrent.futures"
   ]
  },
  {
   "cell_type": "code",
   "execution_count": null,
   "id": "2cccac5d-a391-4e76-8d19-384c3cbf7b3c",
   "metadata": {},
   "outputs": [],
   "source": []
  }
 ],
 "metadata": {
  "kernelspec": {
   "display_name": "Python 3 (ipykernel)",
   "language": "python",
   "name": "python3"
  },
  "language_info": {
   "codemirror_mode": {
    "name": "ipython",
    "version": 3
   },
   "file_extension": ".py",
   "mimetype": "text/x-python",
   "name": "python",
   "nbconvert_exporter": "python",
   "pygments_lexer": "ipython3",
   "version": "3.9.9"
  }
 },
 "nbformat": 4,
 "nbformat_minor": 5
}
